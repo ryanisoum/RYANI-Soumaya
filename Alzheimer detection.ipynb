{
 "cells": [
  {
   "cell_type": "code",
   "execution_count": 1,
   "metadata": {
    "colab": {
     "base_uri": "https://localhost:8080/"
    },
    "id": "K1y1-3Da6xi6",
    "outputId": "bf229e5d-6456-4887-e009-64dc7ddead2b"
   },
   "outputs": [],
   "source": [
    "import pandas as pd\n",
    "\n",
    "# Charger les fichiers CSV\n",
    "train_features = pd.read_csv(\"train_features.csv\")\n",
    "train_labels = pd.read_csv(\"train_labels.csv\")\n",
    "test_features = pd.read_csv(\"test_features.csv\")\n",
    "submission_format = pd.read_csv(\"submission_format.csv\")\n"
   ]
  },
  {
   "cell_type": "code",
   "execution_count": 2,
   "metadata": {},
   "outputs": [
    {
     "name": "stdout",
     "output_type": "stream",
     "text": [
      "Train Features:\n",
      "\n"
     ]
    },
    {
     "data": {
      "text/html": [
       "<div>\n",
       "<style scoped>\n",
       "    .dataframe tbody tr th:only-of-type {\n",
       "        vertical-align: middle;\n",
       "    }\n",
       "\n",
       "    .dataframe tbody tr th {\n",
       "        vertical-align: top;\n",
       "    }\n",
       "\n",
       "    .dataframe thead th {\n",
       "        text-align: right;\n",
       "    }\n",
       "</style>\n",
       "<table border=\"1\" class=\"dataframe\">\n",
       "  <thead>\n",
       "    <tr style=\"text-align: right;\">\n",
       "      <th></th>\n",
       "      <th>uid</th>\n",
       "      <th>age_03</th>\n",
       "      <th>urban_03</th>\n",
       "      <th>married_03</th>\n",
       "      <th>n_mar_03</th>\n",
       "      <th>edu_gru_03</th>\n",
       "      <th>n_living_child_03</th>\n",
       "      <th>migration_03</th>\n",
       "      <th>glob_hlth_03</th>\n",
       "      <th>adl_dress_03</th>\n",
       "      <th>...</th>\n",
       "      <th>rrelgimp_12</th>\n",
       "      <th>rrfcntx_m_12</th>\n",
       "      <th>rsocact_m_12</th>\n",
       "      <th>rrelgwk_12</th>\n",
       "      <th>a16a_12</th>\n",
       "      <th>a21_12</th>\n",
       "      <th>a22_12</th>\n",
       "      <th>a33b_12</th>\n",
       "      <th>a34_12</th>\n",
       "      <th>j11_12</th>\n",
       "    </tr>\n",
       "  </thead>\n",
       "  <tbody>\n",
       "    <tr>\n",
       "      <th>0</th>\n",
       "      <td>aace</td>\n",
       "      <td>NaN</td>\n",
       "      <td>NaN</td>\n",
       "      <td>NaN</td>\n",
       "      <td>NaN</td>\n",
       "      <td>NaN</td>\n",
       "      <td>NaN</td>\n",
       "      <td>NaN</td>\n",
       "      <td>NaN</td>\n",
       "      <td>NaN</td>\n",
       "      <td>...</td>\n",
       "      <td>2.somewhat important</td>\n",
       "      <td>9.Never</td>\n",
       "      <td>9.Never</td>\n",
       "      <td>0.No</td>\n",
       "      <td>NaN</td>\n",
       "      <td>NaN</td>\n",
       "      <td>NaN</td>\n",
       "      <td>NaN</td>\n",
       "      <td>NaN</td>\n",
       "      <td>Concrete 2</td>\n",
       "    </tr>\n",
       "    <tr>\n",
       "      <th>1</th>\n",
       "      <td>aanz</td>\n",
       "      <td>NaN</td>\n",
       "      <td>NaN</td>\n",
       "      <td>NaN</td>\n",
       "      <td>NaN</td>\n",
       "      <td>NaN</td>\n",
       "      <td>NaN</td>\n",
       "      <td>NaN</td>\n",
       "      <td>NaN</td>\n",
       "      <td>NaN</td>\n",
       "      <td>...</td>\n",
       "      <td>1.very important</td>\n",
       "      <td>9.Never</td>\n",
       "      <td>1.Almost every day</td>\n",
       "      <td>0.No</td>\n",
       "      <td>NaN</td>\n",
       "      <td>NaN</td>\n",
       "      <td>NaN</td>\n",
       "      <td>NaN</td>\n",
       "      <td>NaN</td>\n",
       "      <td>Concrete 2</td>\n",
       "    </tr>\n",
       "    <tr>\n",
       "      <th>2</th>\n",
       "      <td>aape</td>\n",
       "      <td>NaN</td>\n",
       "      <td>NaN</td>\n",
       "      <td>NaN</td>\n",
       "      <td>NaN</td>\n",
       "      <td>NaN</td>\n",
       "      <td>NaN</td>\n",
       "      <td>NaN</td>\n",
       "      <td>NaN</td>\n",
       "      <td>NaN</td>\n",
       "      <td>...</td>\n",
       "      <td>2.somewhat important</td>\n",
       "      <td>6.2 or 3 times a month</td>\n",
       "      <td>2.4 or more times a week</td>\n",
       "      <td>0.No</td>\n",
       "      <td>NaN</td>\n",
       "      <td>NaN</td>\n",
       "      <td>NaN</td>\n",
       "      <td>NaN</td>\n",
       "      <td>NaN</td>\n",
       "      <td>Wood, mosaic, or other covering 1</td>\n",
       "    </tr>\n",
       "    <tr>\n",
       "      <th>3</th>\n",
       "      <td>aard</td>\n",
       "      <td>1. 50–59</td>\n",
       "      <td>1. 100,000+</td>\n",
       "      <td>3. Widowed</td>\n",
       "      <td>1.0</td>\n",
       "      <td>3. 7–9 years</td>\n",
       "      <td>1. 1 or 2</td>\n",
       "      <td>0.0</td>\n",
       "      <td>4. Fair</td>\n",
       "      <td>0.0</td>\n",
       "      <td>...</td>\n",
       "      <td>1.very important</td>\n",
       "      <td>4.Once a week</td>\n",
       "      <td>9.Never</td>\n",
       "      <td>1.Yes</td>\n",
       "      <td>NaN</td>\n",
       "      <td>NaN</td>\n",
       "      <td>NaN</td>\n",
       "      <td>NaN</td>\n",
       "      <td>No 2</td>\n",
       "      <td>Concrete 2</td>\n",
       "    </tr>\n",
       "    <tr>\n",
       "      <th>4</th>\n",
       "      <td>ablr</td>\n",
       "      <td>NaN</td>\n",
       "      <td>NaN</td>\n",
       "      <td>NaN</td>\n",
       "      <td>NaN</td>\n",
       "      <td>NaN</td>\n",
       "      <td>NaN</td>\n",
       "      <td>NaN</td>\n",
       "      <td>NaN</td>\n",
       "      <td>NaN</td>\n",
       "      <td>...</td>\n",
       "      <td>1.very important</td>\n",
       "      <td>3.2 or 3 times a week</td>\n",
       "      <td>3.2 or 3 times a week</td>\n",
       "      <td>0.No</td>\n",
       "      <td>NaN</td>\n",
       "      <td>NaN</td>\n",
       "      <td>NaN</td>\n",
       "      <td>NaN</td>\n",
       "      <td>NaN</td>\n",
       "      <td>Wood, mosaic, or other covering 1</td>\n",
       "    </tr>\n",
       "  </tbody>\n",
       "</table>\n",
       "<p>5 rows × 184 columns</p>\n",
       "</div>"
      ],
      "text/plain": [
       "    uid    age_03     urban_03  married_03  n_mar_03    edu_gru_03  \\\n",
       "0  aace       NaN          NaN         NaN       NaN           NaN   \n",
       "1  aanz       NaN          NaN         NaN       NaN           NaN   \n",
       "2  aape       NaN          NaN         NaN       NaN           NaN   \n",
       "3  aard  1. 50–59  1. 100,000+  3. Widowed       1.0  3. 7–9 years   \n",
       "4  ablr       NaN          NaN         NaN       NaN           NaN   \n",
       "\n",
       "  n_living_child_03  migration_03 glob_hlth_03  adl_dress_03  ...  \\\n",
       "0               NaN           NaN          NaN           NaN  ...   \n",
       "1               NaN           NaN          NaN           NaN  ...   \n",
       "2               NaN           NaN          NaN           NaN  ...   \n",
       "3         1. 1 or 2           0.0      4. Fair           0.0  ...   \n",
       "4               NaN           NaN          NaN           NaN  ...   \n",
       "\n",
       "            rrelgimp_12            rrfcntx_m_12              rsocact_m_12  \\\n",
       "0  2.somewhat important                 9.Never                   9.Never   \n",
       "1      1.very important                 9.Never        1.Almost every day   \n",
       "2  2.somewhat important  6.2 or 3 times a month  2.4 or more times a week   \n",
       "3      1.very important           4.Once a week                   9.Never   \n",
       "4      1.very important   3.2 or 3 times a week     3.2 or 3 times a week   \n",
       "\n",
       "   rrelgwk_12  a16a_12  a21_12  a22_12  a33b_12  a34_12  \\\n",
       "0        0.No      NaN     NaN     NaN      NaN     NaN   \n",
       "1        0.No      NaN     NaN     NaN      NaN     NaN   \n",
       "2        0.No      NaN     NaN     NaN      NaN     NaN   \n",
       "3       1.Yes      NaN     NaN     NaN      NaN    No 2   \n",
       "4        0.No      NaN     NaN     NaN      NaN     NaN   \n",
       "\n",
       "                              j11_12  \n",
       "0                         Concrete 2  \n",
       "1                         Concrete 2  \n",
       "2  Wood, mosaic, or other covering 1  \n",
       "3                         Concrete 2  \n",
       "4  Wood, mosaic, or other covering 1  \n",
       "\n",
       "[5 rows x 184 columns]"
      ]
     },
     "execution_count": 2,
     "metadata": {},
     "output_type": "execute_result"
    }
   ],
   "source": [
    "print(\"Train Features:\\n\")\n",
    "train_features.head()\n"
   ]
  },
  {
   "cell_type": "code",
   "execution_count": 3,
   "metadata": {},
   "outputs": [
    {
     "name": "stdout",
     "output_type": "stream",
     "text": [
      "Train Labels:\n",
      "\n"
     ]
    },
    {
     "data": {
      "text/html": [
       "<div>\n",
       "<style scoped>\n",
       "    .dataframe tbody tr th:only-of-type {\n",
       "        vertical-align: middle;\n",
       "    }\n",
       "\n",
       "    .dataframe tbody tr th {\n",
       "        vertical-align: top;\n",
       "    }\n",
       "\n",
       "    .dataframe thead th {\n",
       "        text-align: right;\n",
       "    }\n",
       "</style>\n",
       "<table border=\"1\" class=\"dataframe\">\n",
       "  <thead>\n",
       "    <tr style=\"text-align: right;\">\n",
       "      <th></th>\n",
       "      <th>uid</th>\n",
       "      <th>year</th>\n",
       "      <th>composite_score</th>\n",
       "    </tr>\n",
       "  </thead>\n",
       "  <tbody>\n",
       "    <tr>\n",
       "      <th>0</th>\n",
       "      <td>aace</td>\n",
       "      <td>2021</td>\n",
       "      <td>175</td>\n",
       "    </tr>\n",
       "    <tr>\n",
       "      <th>1</th>\n",
       "      <td>aanz</td>\n",
       "      <td>2021</td>\n",
       "      <td>206</td>\n",
       "    </tr>\n",
       "    <tr>\n",
       "      <th>2</th>\n",
       "      <td>aape</td>\n",
       "      <td>2016</td>\n",
       "      <td>161</td>\n",
       "    </tr>\n",
       "    <tr>\n",
       "      <th>3</th>\n",
       "      <td>aape</td>\n",
       "      <td>2021</td>\n",
       "      <td>144</td>\n",
       "    </tr>\n",
       "    <tr>\n",
       "      <th>4</th>\n",
       "      <td>aard</td>\n",
       "      <td>2021</td>\n",
       "      <td>104</td>\n",
       "    </tr>\n",
       "    <tr>\n",
       "      <th>5</th>\n",
       "      <td>ablr</td>\n",
       "      <td>2021</td>\n",
       "      <td>183</td>\n",
       "    </tr>\n",
       "    <tr>\n",
       "      <th>6</th>\n",
       "      <td>abme</td>\n",
       "      <td>2021</td>\n",
       "      <td>106</td>\n",
       "    </tr>\n",
       "    <tr>\n",
       "      <th>7</th>\n",
       "      <td>abrn</td>\n",
       "      <td>2021</td>\n",
       "      <td>144</td>\n",
       "    </tr>\n",
       "    <tr>\n",
       "      <th>8</th>\n",
       "      <td>acet</td>\n",
       "      <td>2021</td>\n",
       "      <td>152</td>\n",
       "    </tr>\n",
       "    <tr>\n",
       "      <th>9</th>\n",
       "      <td>acgx</td>\n",
       "      <td>2021</td>\n",
       "      <td>144</td>\n",
       "    </tr>\n",
       "  </tbody>\n",
       "</table>\n",
       "</div>"
      ],
      "text/plain": [
       "    uid  year  composite_score\n",
       "0  aace  2021              175\n",
       "1  aanz  2021              206\n",
       "2  aape  2016              161\n",
       "3  aape  2021              144\n",
       "4  aard  2021              104\n",
       "5  ablr  2021              183\n",
       "6  abme  2021              106\n",
       "7  abrn  2021              144\n",
       "8  acet  2021              152\n",
       "9  acgx  2021              144"
      ]
     },
     "execution_count": 3,
     "metadata": {},
     "output_type": "execute_result"
    }
   ],
   "source": [
    "print(\"Train Labels:\\n\")\n",
    "train_labels.head(10)"
   ]
  },
  {
   "cell_type": "code",
   "execution_count": 4,
   "metadata": {},
   "outputs": [
    {
     "name": "stdout",
     "output_type": "stream",
     "text": [
      "train features shape: (3276, 184)\n",
      "train labels shape: (4343, 3)\n"
     ]
    }
   ],
   "source": [
    "print(\"train features shape:\", train_features.shape)\n",
    "print(\"train labels shape:\", train_labels.shape)"
   ]
  },
  {
   "cell_type": "code",
   "execution_count": 5,
   "metadata": {},
   "outputs": [
    {
     "name": "stdout",
     "output_type": "stream",
     "text": [
      "Nombre d'indices communs : 3276\n",
      "Avant traitement des NaN :\n",
      "NaN dans train_features : 135341\n",
      "NaN dans train_labels : 0\n",
      "Après traitement des NaN :\n",
      "NaN dans train_features : 38649\n",
      "NaN dans train_labels : 0\n",
      "Après synchronisation et nettoyage :\n",
      "train_features shape : (3276, 183)\n",
      "train_labels shape : (3276, 2)\n",
      "Indices train_features (premiers) : Index(['aace', 'aanz', 'aape', 'aard', 'ablr'], dtype='object', name='uid')\n",
      "Indices train_labels (premiers) : Index(['aace', 'aanz', 'aape', 'aard', 'ablr'], dtype='object', name='uid')\n"
     ]
    }
   ],
   "source": [
    "# Étape 1 : Vérifier et utiliser 'uid' comme index\n",
    "if 'uid' in train_features.columns:\n",
    "    train_features = train_features.set_index('uid')\n",
    "\n",
    "if 'uid' in train_labels.columns:\n",
    "    train_labels = train_labels.set_index('uid')\n",
    "\n",
    "# Étape 2 : Identifier les indices communs\n",
    "common_indices = train_features.index.intersection(train_labels.index)\n",
    "print(f\"Nombre d'indices communs : {len(common_indices)}\")\n",
    "\n",
    "# Étape 3 : Synchroniser les deux bases de données en éliminant les autres indices\n",
    "train_features = train_features.loc[common_indices].copy()\n",
    "train_labels = train_labels.loc[common_indices].copy()\n",
    "\n",
    "# Étape 4 : Vérifier et traiter les NaN uniquement pour éviter des suppressions globales\n",
    "print(\"Avant traitement des NaN :\")\n",
    "print(f\"NaN dans train_features : {train_features.isnull().sum().sum()}\")\n",
    "print(f\"NaN dans train_labels : {train_labels.isnull().sum().sum()}\")\n",
    "\n",
    "train_features = train_features.fillna(train_features.median(numeric_only=True))\n",
    "train_labels = train_labels.fillna(train_labels.mode().iloc[0])  # Remplace par le mode pour les catégoriques\n",
    "\n",
    "print(\"Après traitement des NaN :\")\n",
    "print(f\"NaN dans train_features : {train_features.isnull().sum().sum()}\")\n",
    "print(f\"NaN dans train_labels : {train_labels.isnull().sum().sum()}\")\n",
    "\n",
    "# Étape 5 : Vérifier si des indices dupliqués existent et les éliminer si nécessaire\n",
    "train_features = train_features[~train_features.index.duplicated(keep='first')]\n",
    "train_labels = train_labels[~train_labels.index.duplicated(keep='first')]\n",
    "\n",
    "# Étape 6 : Vérifier les nouvelles dimensions et les indices\n",
    "print(\"Après synchronisation et nettoyage :\")\n",
    "print(\"train_features shape :\", train_features.shape)\n",
    "print(\"train_labels shape :\", train_labels.shape)\n",
    "print(\"Indices train_features (premiers) :\", train_features.index[:5])\n",
    "print(\"Indices train_labels (premiers) :\", train_labels.index[:5])\n"
   ]
  },
  {
   "cell_type": "code",
   "execution_count": 6,
   "metadata": {
    "colab": {
     "base_uri": "https://localhost:8080/"
    },
    "id": "q9FZmU6u7CHV",
    "outputId": "dcd25aff-4ed0-44fb-c901-014ffeecd14d"
   },
   "outputs": [
    {
     "name": "stdout",
     "output_type": "stream",
     "text": [
      "Prétraitement terminé :\n",
      "X_train shape: (3276, 183)\n",
      "y_train shape: (3276,)\n",
      "X_test shape: (819, 183)\n"
     ]
    }
   ],
   "source": [
    "from sklearn.preprocessing import StandardScaler\n",
    "import numpy as np\n",
    "import re\n",
    "\n",
    "def preprocess_data(features, labels=None):\n",
    "    # Exclure la colonne 'uid' avant toute transformation\n",
    "    if 'uid' in features.columns:\n",
    "        features = features.set_index('uid')\n",
    "\n",
    "    # Identifier les colonnes numériques et catégorielles\n",
    "    numeric_cols = features.select_dtypes(include=['float64', 'int64']).columns\n",
    "    categorical_cols = features.select_dtypes(exclude=['float64', 'int64']).columns\n",
    "\n",
    "    # Identifier et traiter les colonnes problématiques (non numériques)\n",
    "    for col in features.columns:\n",
    "        if features[col].dtype == 'object':  # Si une colonne est de type 'object'\n",
    "            features[col] = features[col].astype(str).apply(lambda x: re.search(r'\\d+', x).group(0) if re.search(r'\\d+', x) else np.nan)\n",
    "            features[col] = pd.to_numeric(features[col], errors='coerce')  # Convertir en numérique\n",
    "\n",
    "    # Mise à jour des colonnes numériques et catégorielles après transformation\n",
    "    numeric_cols = features.select_dtypes(include=['float64', 'int64']).columns\n",
    "    categorical_cols = features.select_dtypes(exclude=['float64', 'int64']).columns\n",
    "\n",
    "    # Gestion des colonnes complètement vides\n",
    "    features = features.dropna(axis=1, how='all')\n",
    "\n",
    "    # Gestion des valeurs manquantes\n",
    "    for col in numeric_cols:  # Colonnes numériques\n",
    "        if features[col].isnull().any():\n",
    "            features[col] = features[col].fillna(features[col].median())  # Remplacer les NaN par la médiane\n",
    "\n",
    "    for col in categorical_cols:  # Colonnes catégorielles\n",
    "        if features[col].isnull().any():\n",
    "            mode_value = features[col].mode()[0]  # Calculer le mode\n",
    "            features[col] = features[col].fillna(mode_value)  # Remplacer les NaN par le mode\n",
    "\n",
    "    # Vérifier la présence de NaN ou Inf\n",
    "    if features.isnull().any().any():\n",
    "        print(\"Attention : Des NaN subsistent après le nettoyage.\")\n",
    "    if (features == float('inf')).any().any():\n",
    "        print(\"Attention : Des valeurs infinies subsistent après le nettoyage.\")\n",
    "\n",
    "    # Normalisation des colonnes numériques uniquement\n",
    "    scaler = StandardScaler()\n",
    "    features[numeric_cols] = scaler.fit_transform(features[numeric_cols])\n",
    "\n",
    "    # Si des labels sont fournis, les séparer\n",
    "    if labels is not None:\n",
    "        labels = labels[\"composite_score\"]\n",
    "        return features, labels\n",
    "\n",
    "    return features\n",
    "\n",
    "# Prétraiter les données\n",
    "X_train, y_train = preprocess_data(train_features, train_labels)\n",
    "X_test = preprocess_data(test_features)\n",
    "\n",
    "print(\"Prétraitement terminé :\")\n",
    "print(\"X_train shape:\", X_train.shape)\n",
    "print(\"y_train shape:\", y_train.shape)\n",
    "print(\"X_test shape:\", X_test.shape)\n"
   ]
  },
  {
   "cell_type": "code",
   "execution_count": 7,
   "metadata": {
    "colab": {
     "base_uri": "https://localhost:8080/"
    },
    "id": "xc9nutk57ZgP",
    "outputId": "7a559bd4-fdc7-4a8b-888a-e005cbd4d870"
   },
   "outputs": [
    {
     "name": "stdout",
     "output_type": "stream",
     "text": [
      "Taille des ensembles :\n",
      "Entraînement : (2620, 183) (2620,)\n",
      "Validation : (656, 183) (656,)\n"
     ]
    }
   ],
   "source": [
    "# Vérifier la cohérence entre X_train et y_train\n",
    "if len(X_train) != len(y_train):\n",
    "    print(f\"Incohérence détectée : X_train a {len(X_train)} échantillons, mais y_train en a {len(y_train)}.\")\n",
    "    # Trouver les indices communs si nécessaire\n",
    "    common_indices = X_train.index.intersection(y_train.index)\n",
    "    X_train = X_train.loc[common_indices]\n",
    "    y_train = y_train.loc[common_indices]\n",
    "    print(f\"Après correction : X_train a {len(X_train)} échantillons et y_train en a {len(y_train)}.\")\n",
    "\n",
    "# Diviser les données en ensemble d'entraînement et de validation\n",
    "from sklearn.model_selection import train_test_split\n",
    "\n",
    "X_train_split, X_val, y_train_split, y_val = train_test_split(\n",
    "    X_train, y_train, test_size=0.2, random_state=42\n",
    ")\n",
    "\n",
    "print(\"Taille des ensembles :\")\n",
    "print(\"Entraînement :\", X_train_split.shape, y_train_split.shape)\n",
    "print(\"Validation :\", X_val.shape, y_val.shape)"
   ]
  },
  {
   "cell_type": "code",
   "execution_count": 8,
   "metadata": {
    "colab": {
     "base_uri": "https://localhost:8080/",
     "height": 376
    },
    "id": "2F77aeOW7kA4",
    "outputId": "c461f4b6-969d-4c16-f881-3bccc216b063"
   },
   "outputs": [
    {
     "name": "stderr",
     "output_type": "stream",
     "text": [
      "2025-01-13 18:55:37.100217: I external/local_xla/xla/tsl/cuda/cudart_stub.cc:32] Could not find cuda drivers on your machine, GPU will not be used.\n",
      "2025-01-13 18:55:37.116202: I external/local_xla/xla/tsl/cuda/cudart_stub.cc:32] Could not find cuda drivers on your machine, GPU will not be used.\n",
      "2025-01-13 18:55:37.150688: E external/local_xla/xla/stream_executor/cuda/cuda_fft.cc:477] Unable to register cuFFT factory: Attempting to register factory for plugin cuFFT when one has already been registered\n",
      "WARNING: All log messages before absl::InitializeLog() is called are written to STDERR\n",
      "E0000 00:00:1736790937.200887 2015144 cuda_dnn.cc:8310] Unable to register cuDNN factory: Attempting to register factory for plugin cuDNN when one has already been registered\n",
      "E0000 00:00:1736790937.216092 2015144 cuda_blas.cc:1418] Unable to register cuBLAS factory: Attempting to register factory for plugin cuBLAS when one has already been registered\n",
      "/usr/local/lib/python3.12/site-packages/keras/src/layers/core/dense.py:87: UserWarning: Do not pass an `input_shape`/`input_dim` argument to a layer. When using Sequential models, prefer using an `Input(shape)` object as the first layer in the model instead.\n",
      "  super().__init__(activity_regularizer=activity_regularizer, **kwargs)\n",
      "2025-01-13 18:55:40.869025: E external/local_xla/xla/stream_executor/cuda/cuda_driver.cc:152] failed call to cuInit: INTERNAL: CUDA error: Failed call to cuInit: UNKNOWN ERROR (303)\n"
     ]
    },
    {
     "data": {
      "text/html": [
       "<pre style=\"white-space:pre;overflow-x:auto;line-height:normal;font-family:Menlo,'DejaVu Sans Mono',consolas,'Courier New',monospace\"><span style=\"font-weight: bold\">Model: \"sequential\"</span>\n",
       "</pre>\n"
      ],
      "text/plain": [
       "\u001b[1mModel: \"sequential\"\u001b[0m\n"
      ]
     },
     "metadata": {},
     "output_type": "display_data"
    },
    {
     "data": {
      "text/html": [
       "<pre style=\"white-space:pre;overflow-x:auto;line-height:normal;font-family:Menlo,'DejaVu Sans Mono',consolas,'Courier New',monospace\">┏━━━━━━━━━━━━━━━━━━━━━━━━━━━━━━━━━┳━━━━━━━━━━━━━━━━━━━━━━━━┳━━━━━━━━━━━━━━━┓\n",
       "┃<span style=\"font-weight: bold\"> Layer (type)                    </span>┃<span style=\"font-weight: bold\"> Output Shape           </span>┃<span style=\"font-weight: bold\">       Param # </span>┃\n",
       "┡━━━━━━━━━━━━━━━━━━━━━━━━━━━━━━━━━╇━━━━━━━━━━━━━━━━━━━━━━━━╇━━━━━━━━━━━━━━━┩\n",
       "│ dense (<span style=\"color: #0087ff; text-decoration-color: #0087ff\">Dense</span>)                   │ (<span style=\"color: #00d7ff; text-decoration-color: #00d7ff\">None</span>, <span style=\"color: #00af00; text-decoration-color: #00af00\">8</span>)              │         <span style=\"color: #00af00; text-decoration-color: #00af00\">1,472</span> │\n",
       "├─────────────────────────────────┼────────────────────────┼───────────────┤\n",
       "│ dropout (<span style=\"color: #0087ff; text-decoration-color: #0087ff\">Dropout</span>)               │ (<span style=\"color: #00d7ff; text-decoration-color: #00d7ff\">None</span>, <span style=\"color: #00af00; text-decoration-color: #00af00\">8</span>)              │             <span style=\"color: #00af00; text-decoration-color: #00af00\">0</span> │\n",
       "├─────────────────────────────────┼────────────────────────┼───────────────┤\n",
       "│ dense_1 (<span style=\"color: #0087ff; text-decoration-color: #0087ff\">Dense</span>)                 │ (<span style=\"color: #00d7ff; text-decoration-color: #00d7ff\">None</span>, <span style=\"color: #00af00; text-decoration-color: #00af00\">4</span>)              │            <span style=\"color: #00af00; text-decoration-color: #00af00\">36</span> │\n",
       "├─────────────────────────────────┼────────────────────────┼───────────────┤\n",
       "│ dropout_1 (<span style=\"color: #0087ff; text-decoration-color: #0087ff\">Dropout</span>)             │ (<span style=\"color: #00d7ff; text-decoration-color: #00d7ff\">None</span>, <span style=\"color: #00af00; text-decoration-color: #00af00\">4</span>)              │             <span style=\"color: #00af00; text-decoration-color: #00af00\">0</span> │\n",
       "├─────────────────────────────────┼────────────────────────┼───────────────┤\n",
       "│ dense_2 (<span style=\"color: #0087ff; text-decoration-color: #0087ff\">Dense</span>)                 │ (<span style=\"color: #00d7ff; text-decoration-color: #00d7ff\">None</span>, <span style=\"color: #00af00; text-decoration-color: #00af00\">1</span>)              │             <span style=\"color: #00af00; text-decoration-color: #00af00\">5</span> │\n",
       "└─────────────────────────────────┴────────────────────────┴───────────────┘\n",
       "</pre>\n"
      ],
      "text/plain": [
       "┏━━━━━━━━━━━━━━━━━━━━━━━━━━━━━━━━━┳━━━━━━━━━━━━━━━━━━━━━━━━┳━━━━━━━━━━━━━━━┓\n",
       "┃\u001b[1m \u001b[0m\u001b[1mLayer (type)                   \u001b[0m\u001b[1m \u001b[0m┃\u001b[1m \u001b[0m\u001b[1mOutput Shape          \u001b[0m\u001b[1m \u001b[0m┃\u001b[1m \u001b[0m\u001b[1m      Param #\u001b[0m\u001b[1m \u001b[0m┃\n",
       "┡━━━━━━━━━━━━━━━━━━━━━━━━━━━━━━━━━╇━━━━━━━━━━━━━━━━━━━━━━━━╇━━━━━━━━━━━━━━━┩\n",
       "│ dense (\u001b[38;5;33mDense\u001b[0m)                   │ (\u001b[38;5;45mNone\u001b[0m, \u001b[38;5;34m8\u001b[0m)              │         \u001b[38;5;34m1,472\u001b[0m │\n",
       "├─────────────────────────────────┼────────────────────────┼───────────────┤\n",
       "│ dropout (\u001b[38;5;33mDropout\u001b[0m)               │ (\u001b[38;5;45mNone\u001b[0m, \u001b[38;5;34m8\u001b[0m)              │             \u001b[38;5;34m0\u001b[0m │\n",
       "├─────────────────────────────────┼────────────────────────┼───────────────┤\n",
       "│ dense_1 (\u001b[38;5;33mDense\u001b[0m)                 │ (\u001b[38;5;45mNone\u001b[0m, \u001b[38;5;34m4\u001b[0m)              │            \u001b[38;5;34m36\u001b[0m │\n",
       "├─────────────────────────────────┼────────────────────────┼───────────────┤\n",
       "│ dropout_1 (\u001b[38;5;33mDropout\u001b[0m)             │ (\u001b[38;5;45mNone\u001b[0m, \u001b[38;5;34m4\u001b[0m)              │             \u001b[38;5;34m0\u001b[0m │\n",
       "├─────────────────────────────────┼────────────────────────┼───────────────┤\n",
       "│ dense_2 (\u001b[38;5;33mDense\u001b[0m)                 │ (\u001b[38;5;45mNone\u001b[0m, \u001b[38;5;34m1\u001b[0m)              │             \u001b[38;5;34m5\u001b[0m │\n",
       "└─────────────────────────────────┴────────────────────────┴───────────────┘\n"
      ]
     },
     "metadata": {},
     "output_type": "display_data"
    },
    {
     "data": {
      "text/html": [
       "<pre style=\"white-space:pre;overflow-x:auto;line-height:normal;font-family:Menlo,'DejaVu Sans Mono',consolas,'Courier New',monospace\"><span style=\"font-weight: bold\"> Total params: </span><span style=\"color: #00af00; text-decoration-color: #00af00\">1,513</span> (5.91 KB)\n",
       "</pre>\n"
      ],
      "text/plain": [
       "\u001b[1m Total params: \u001b[0m\u001b[38;5;34m1,513\u001b[0m (5.91 KB)\n"
      ]
     },
     "metadata": {},
     "output_type": "display_data"
    },
    {
     "data": {
      "text/html": [
       "<pre style=\"white-space:pre;overflow-x:auto;line-height:normal;font-family:Menlo,'DejaVu Sans Mono',consolas,'Courier New',monospace\"><span style=\"font-weight: bold\"> Trainable params: </span><span style=\"color: #00af00; text-decoration-color: #00af00\">1,513</span> (5.91 KB)\n",
       "</pre>\n"
      ],
      "text/plain": [
       "\u001b[1m Trainable params: \u001b[0m\u001b[38;5;34m1,513\u001b[0m (5.91 KB)\n"
      ]
     },
     "metadata": {},
     "output_type": "display_data"
    },
    {
     "data": {
      "text/html": [
       "<pre style=\"white-space:pre;overflow-x:auto;line-height:normal;font-family:Menlo,'DejaVu Sans Mono',consolas,'Courier New',monospace\"><span style=\"font-weight: bold\"> Non-trainable params: </span><span style=\"color: #00af00; text-decoration-color: #00af00\">0</span> (0.00 B)\n",
       "</pre>\n"
      ],
      "text/plain": [
       "\u001b[1m Non-trainable params: \u001b[0m\u001b[38;5;34m0\u001b[0m (0.00 B)\n"
      ]
     },
     "metadata": {},
     "output_type": "display_data"
    }
   ],
   "source": [
    "import tensorflow as tf\n",
    "from tensorflow.keras.models import Sequential\n",
    "from tensorflow.keras.layers import Dense, Dropout, Conv2D, Flatten\n",
    "from tensorflow.keras import regularizers\n",
    "\n",
    "\n",
    "# Définir le modèle\n",
    "model = Sequential([\n",
    "    Dense(8, activation='relu', input_shape=(X_train_split.shape[1],)),\n",
    "    Dropout(0.1),\n",
    "    Dense(4, activation='relu'),\n",
    "    Dropout(0.1),\n",
    "    Dense(1)\n",
    "])\n",
    "# Compiler le modèle\n",
    "model.compile(optimizer='adam', loss='mean_squared_error', metrics=['mae'])\n",
    "\n",
    "# Afficher le résumé du modèle\n",
    "model.summary()\n"
   ]
  },
  {
   "cell_type": "code",
   "execution_count": 9,
   "metadata": {
    "colab": {
     "base_uri": "https://localhost:8080/"
    },
    "id": "k82zUVlA8EbA",
    "outputId": "4fdac362-c029-45e1-d4fb-4792972db377"
   },
   "outputs": [
    {
     "name": "stdout",
     "output_type": "stream",
     "text": [
      "Epoch 1/50\n",
      "\u001b[1m82/82\u001b[0m \u001b[32m━━━━━━━━━━━━━━━━━━━━\u001b[0m\u001b[37m\u001b[0m \u001b[1m3s\u001b[0m 7ms/step - loss: 27185.9629 - mae: 153.2128 - val_loss: 29738.5117 - val_mae: 160.2903\n",
      "Epoch 2/50\n",
      "\u001b[1m82/82\u001b[0m \u001b[32m━━━━━━━━━━━━━━━━━━━━\u001b[0m\u001b[37m\u001b[0m \u001b[1m0s\u001b[0m 5ms/step - loss: 26571.2715 - mae: 151.1944 - val_loss: 29250.5000 - val_mae: 158.7088\n",
      "Epoch 3/50\n",
      "\u001b[1m82/82\u001b[0m \u001b[32m━━━━━━━━━━━━━━━━━━━━\u001b[0m\u001b[37m\u001b[0m \u001b[1m1s\u001b[0m 7ms/step - loss: 25730.1758 - mae: 148.4731 - val_loss: 27956.4941 - val_mae: 154.5773\n",
      "Epoch 4/50\n",
      "\u001b[1m82/82\u001b[0m \u001b[32m━━━━━━━━━━━━━━━━━━━━\u001b[0m\u001b[37m\u001b[0m \u001b[1m0s\u001b[0m 4ms/step - loss: 24999.7090 - mae: 145.1655 - val_loss: 25104.9785 - val_mae: 145.4880\n",
      "Epoch 5/50\n",
      "\u001b[1m82/82\u001b[0m \u001b[32m━━━━━━━━━━━━━━━━━━━━\u001b[0m\u001b[37m\u001b[0m \u001b[1m0s\u001b[0m 3ms/step - loss: 21248.5000 - mae: 131.8997 - val_loss: 20436.7461 - val_mae: 129.9957\n",
      "Epoch 6/50\n",
      "\u001b[1m82/82\u001b[0m \u001b[32m━━━━━━━━━━━━━━━━━━━━\u001b[0m\u001b[37m\u001b[0m \u001b[1m0s\u001b[0m 3ms/step - loss: 17509.1875 - mae: 118.3329 - val_loss: 13350.8018 - val_mae: 103.2830\n",
      "Epoch 7/50\n",
      "\u001b[1m82/82\u001b[0m \u001b[32m━━━━━━━━━━━━━━━━━━━━\u001b[0m\u001b[37m\u001b[0m \u001b[1m0s\u001b[0m 4ms/step - loss: 10394.3730 - mae: 87.7231 - val_loss: 7739.5693 - val_mae: 75.1446\n",
      "Epoch 8/50\n",
      "\u001b[1m82/82\u001b[0m \u001b[32m━━━━━━━━━━━━━━━━━━━━\u001b[0m\u001b[37m\u001b[0m \u001b[1m0s\u001b[0m 5ms/step - loss: 7025.8726 - mae: 68.8381 - val_loss: 5248.4702 - val_mae: 59.1876\n",
      "Epoch 9/50\n",
      "\u001b[1m82/82\u001b[0m \u001b[32m━━━━━━━━━━━━━━━━━━━━\u001b[0m\u001b[37m\u001b[0m \u001b[1m0s\u001b[0m 3ms/step - loss: 5635.0049 - mae: 60.2485 - val_loss: 4369.2725 - val_mae: 52.9986\n",
      "Epoch 10/50\n",
      "\u001b[1m82/82\u001b[0m \u001b[32m━━━━━━━━━━━━━━━━━━━━\u001b[0m\u001b[37m\u001b[0m \u001b[1m0s\u001b[0m 3ms/step - loss: 5062.4785 - mae: 57.2718 - val_loss: 4023.5754 - val_mae: 50.6062\n",
      "Epoch 11/50\n",
      "\u001b[1m82/82\u001b[0m \u001b[32m━━━━━━━━━━━━━━━━━━━━\u001b[0m\u001b[37m\u001b[0m \u001b[1m0s\u001b[0m 3ms/step - loss: 5082.3228 - mae: 57.1203 - val_loss: 3812.3552 - val_mae: 49.1159\n",
      "Epoch 12/50\n",
      "\u001b[1m82/82\u001b[0m \u001b[32m━━━━━━━━━━━━━━━━━━━━\u001b[0m\u001b[37m\u001b[0m \u001b[1m0s\u001b[0m 3ms/step - loss: 4654.4673 - mae: 54.5980 - val_loss: 3628.8232 - val_mae: 47.8711\n",
      "Epoch 13/50\n",
      "\u001b[1m82/82\u001b[0m \u001b[32m━━━━━━━━━━━━━━━━━━━━\u001b[0m\u001b[37m\u001b[0m \u001b[1m0s\u001b[0m 3ms/step - loss: 4821.8276 - mae: 55.0773 - val_loss: 3519.5842 - val_mae: 47.2248\n",
      "Epoch 14/50\n",
      "\u001b[1m82/82\u001b[0m \u001b[32m━━━━━━━━━━━━━━━━━━━━\u001b[0m\u001b[37m\u001b[0m \u001b[1m0s\u001b[0m 3ms/step - loss: 4699.3467 - mae: 53.8556 - val_loss: 3423.7207 - val_mae: 46.5470\n",
      "Epoch 15/50\n",
      "\u001b[1m82/82\u001b[0m \u001b[32m━━━━━━━━━━━━━━━━━━━━\u001b[0m\u001b[37m\u001b[0m \u001b[1m0s\u001b[0m 3ms/step - loss: 4420.5376 - mae: 52.2262 - val_loss: 3380.6924 - val_mae: 46.2194\n",
      "Epoch 16/50\n",
      "\u001b[1m82/82\u001b[0m \u001b[32m━━━━━━━━━━━━━━━━━━━━\u001b[0m\u001b[37m\u001b[0m \u001b[1m0s\u001b[0m 5ms/step - loss: 4573.1851 - mae: 53.8561 - val_loss: 3320.6162 - val_mae: 45.8398\n",
      "Epoch 17/50\n",
      "\u001b[1m82/82\u001b[0m \u001b[32m━━━━━━━━━━━━━━━━━━━━\u001b[0m\u001b[37m\u001b[0m \u001b[1m1s\u001b[0m 5ms/step - loss: 4527.7539 - mae: 52.1789 - val_loss: 3290.4973 - val_mae: 45.6539\n",
      "Epoch 18/50\n",
      "\u001b[1m82/82\u001b[0m \u001b[32m━━━━━━━━━━━━━━━━━━━━\u001b[0m\u001b[37m\u001b[0m \u001b[1m0s\u001b[0m 5ms/step - loss: 4326.0137 - mae: 52.1999 - val_loss: 3233.5498 - val_mae: 45.1976\n",
      "Epoch 19/50\n",
      "\u001b[1m82/82\u001b[0m \u001b[32m━━━━━━━━━━━━━━━━━━━━\u001b[0m\u001b[37m\u001b[0m \u001b[1m1s\u001b[0m 7ms/step - loss: 4268.4438 - mae: 51.0538 - val_loss: 3202.7954 - val_mae: 44.9673\n",
      "Epoch 20/50\n",
      "\u001b[1m82/82\u001b[0m \u001b[32m━━━━━━━━━━━━━━━━━━━━\u001b[0m\u001b[37m\u001b[0m \u001b[1m0s\u001b[0m 5ms/step - loss: 3944.3508 - mae: 49.6980 - val_loss: 3172.1123 - val_mae: 44.7295\n",
      "Epoch 21/50\n",
      "\u001b[1m82/82\u001b[0m \u001b[32m━━━━━━━━━━━━━━━━━━━━\u001b[0m\u001b[37m\u001b[0m \u001b[1m1s\u001b[0m 6ms/step - loss: 4471.0366 - mae: 52.3774 - val_loss: 3144.2505 - val_mae: 44.4951\n",
      "Epoch 22/50\n",
      "\u001b[1m82/82\u001b[0m \u001b[32m━━━━━━━━━━━━━━━━━━━━\u001b[0m\u001b[37m\u001b[0m \u001b[1m0s\u001b[0m 5ms/step - loss: 4133.4160 - mae: 50.2865 - val_loss: 3105.2322 - val_mae: 44.0707\n",
      "Epoch 23/50\n",
      "\u001b[1m82/82\u001b[0m \u001b[32m━━━━━━━━━━━━━━━━━━━━\u001b[0m\u001b[37m\u001b[0m \u001b[1m1s\u001b[0m 6ms/step - loss: 4635.7886 - mae: 52.6224 - val_loss: 3119.6465 - val_mae: 44.2466\n",
      "Epoch 24/50\n",
      "\u001b[1m82/82\u001b[0m \u001b[32m━━━━━━━━━━━━━━━━━━━━\u001b[0m\u001b[37m\u001b[0m \u001b[1m0s\u001b[0m 5ms/step - loss: 4034.9333 - mae: 49.7633 - val_loss: 3077.4055 - val_mae: 43.8889\n",
      "Epoch 25/50\n",
      "\u001b[1m82/82\u001b[0m \u001b[32m━━━━━━━━━━━━━━━━━━━━\u001b[0m\u001b[37m\u001b[0m \u001b[1m0s\u001b[0m 5ms/step - loss: 4033.5854 - mae: 50.2658 - val_loss: 3060.1240 - val_mae: 43.8046\n",
      "Epoch 26/50\n",
      "\u001b[1m82/82\u001b[0m \u001b[32m━━━━━━━━━━━━━━━━━━━━\u001b[0m\u001b[37m\u001b[0m \u001b[1m1s\u001b[0m 6ms/step - loss: 4198.3188 - mae: 49.7620 - val_loss: 3055.3311 - val_mae: 43.8757\n",
      "Epoch 27/50\n",
      "\u001b[1m82/82\u001b[0m \u001b[32m━━━━━━━━━━━━━━━━━━━━\u001b[0m\u001b[37m\u001b[0m \u001b[1m1s\u001b[0m 6ms/step - loss: 4159.7905 - mae: 50.3787 - val_loss: 3001.7261 - val_mae: 43.3558\n",
      "Epoch 28/50\n",
      "\u001b[1m82/82\u001b[0m \u001b[32m━━━━━━━━━━━━━━━━━━━━\u001b[0m\u001b[37m\u001b[0m \u001b[1m1s\u001b[0m 6ms/step - loss: 4138.5249 - mae: 49.6736 - val_loss: 2972.0037 - val_mae: 43.1328\n",
      "Epoch 29/50\n",
      "\u001b[1m82/82\u001b[0m \u001b[32m━━━━━━━━━━━━━━━━━━━━\u001b[0m\u001b[37m\u001b[0m \u001b[1m1s\u001b[0m 7ms/step - loss: 3888.8577 - mae: 49.2655 - val_loss: 2972.6519 - val_mae: 43.1887\n",
      "Epoch 30/50\n",
      "\u001b[1m82/82\u001b[0m \u001b[32m━━━━━━━━━━━━━━━━━━━━\u001b[0m\u001b[37m\u001b[0m \u001b[1m0s\u001b[0m 5ms/step - loss: 3920.3164 - mae: 48.0824 - val_loss: 2951.2437 - val_mae: 43.0223\n",
      "Epoch 31/50\n",
      "\u001b[1m82/82\u001b[0m \u001b[32m━━━━━━━━━━━━━━━━━━━━\u001b[0m\u001b[37m\u001b[0m \u001b[1m1s\u001b[0m 6ms/step - loss: 3939.3955 - mae: 49.0336 - val_loss: 2938.0735 - val_mae: 42.9394\n",
      "Epoch 32/50\n",
      "\u001b[1m82/82\u001b[0m \u001b[32m━━━━━━━━━━━━━━━━━━━━\u001b[0m\u001b[37m\u001b[0m \u001b[1m0s\u001b[0m 5ms/step - loss: 4092.2947 - mae: 49.2731 - val_loss: 2937.6372 - val_mae: 43.0023\n",
      "Epoch 33/50\n",
      "\u001b[1m82/82\u001b[0m \u001b[32m━━━━━━━━━━━━━━━━━━━━\u001b[0m\u001b[37m\u001b[0m \u001b[1m1s\u001b[0m 6ms/step - loss: 3939.2903 - mae: 49.3635 - val_loss: 2916.0583 - val_mae: 42.7487\n",
      "Epoch 34/50\n",
      "\u001b[1m82/82\u001b[0m \u001b[32m━━━━━━━━━━━━━━━━━━━━\u001b[0m\u001b[37m\u001b[0m \u001b[1m1s\u001b[0m 6ms/step - loss: 3787.0801 - mae: 48.2908 - val_loss: 2901.2129 - val_mae: 42.5609\n",
      "Epoch 35/50\n",
      "\u001b[1m82/82\u001b[0m \u001b[32m━━━━━━━━━━━━━━━━━━━━\u001b[0m\u001b[37m\u001b[0m \u001b[1m0s\u001b[0m 4ms/step - loss: 3762.4729 - mae: 47.5449 - val_loss: 2913.1846 - val_mae: 42.6470\n",
      "Epoch 36/50\n",
      "\u001b[1m82/82\u001b[0m \u001b[32m━━━━━━━━━━━━━━━━━━━━\u001b[0m\u001b[37m\u001b[0m \u001b[1m0s\u001b[0m 4ms/step - loss: 3962.2908 - mae: 48.6430 - val_loss: 2901.7600 - val_mae: 42.6613\n",
      "Epoch 37/50\n",
      "\u001b[1m82/82\u001b[0m \u001b[32m━━━━━━━━━━━━━━━━━━━━\u001b[0m\u001b[37m\u001b[0m \u001b[1m0s\u001b[0m 5ms/step - loss: 3946.5339 - mae: 48.6556 - val_loss: 2916.2214 - val_mae: 42.7406\n",
      "Epoch 38/50\n",
      "\u001b[1m82/82\u001b[0m \u001b[32m━━━━━━━━━━━━━━━━━━━━\u001b[0m\u001b[37m\u001b[0m \u001b[1m0s\u001b[0m 5ms/step - loss: 3806.9351 - mae: 48.3690 - val_loss: 2921.2722 - val_mae: 42.8951\n",
      "Epoch 39/50\n",
      "\u001b[1m82/82\u001b[0m \u001b[32m━━━━━━━━━━━━━━━━━━━━\u001b[0m\u001b[37m\u001b[0m \u001b[1m1s\u001b[0m 5ms/step - loss: 3542.3223 - mae: 46.9872 - val_loss: 2877.1519 - val_mae: 42.5101\n",
      "Epoch 40/50\n",
      "\u001b[1m82/82\u001b[0m \u001b[32m━━━━━━━━━━━━━━━━━━━━\u001b[0m\u001b[37m\u001b[0m \u001b[1m1s\u001b[0m 6ms/step - loss: 3819.8264 - mae: 47.7947 - val_loss: 2860.1692 - val_mae: 42.2945\n",
      "Epoch 41/50\n",
      "\u001b[1m82/82\u001b[0m \u001b[32m━━━━━━━━━━━━━━━━━━━━\u001b[0m\u001b[37m\u001b[0m \u001b[1m0s\u001b[0m 5ms/step - loss: 3616.8528 - mae: 46.5059 - val_loss: 2880.0215 - val_mae: 42.5126\n",
      "Epoch 42/50\n",
      "\u001b[1m82/82\u001b[0m \u001b[32m━━━━━━━━━━━━━━━━━━━━\u001b[0m\u001b[37m\u001b[0m \u001b[1m0s\u001b[0m 5ms/step - loss: 3685.2051 - mae: 47.4155 - val_loss: 2852.0962 - val_mae: 42.2677\n",
      "Epoch 43/50\n",
      "\u001b[1m82/82\u001b[0m \u001b[32m━━━━━━━━━━━━━━━━━━━━\u001b[0m\u001b[37m\u001b[0m \u001b[1m1s\u001b[0m 6ms/step - loss: 3647.0676 - mae: 47.2208 - val_loss: 2838.8896 - val_mae: 42.2112\n",
      "Epoch 44/50\n",
      "\u001b[1m82/82\u001b[0m \u001b[32m━━━━━━━━━━━━━━━━━━━━\u001b[0m\u001b[37m\u001b[0m \u001b[1m0s\u001b[0m 5ms/step - loss: 3492.8333 - mae: 46.5761 - val_loss: 2811.7476 - val_mae: 42.0222\n",
      "Epoch 45/50\n",
      "\u001b[1m82/82\u001b[0m \u001b[32m━━━━━━━━━━━━━━━━━━━━\u001b[0m\u001b[37m\u001b[0m \u001b[1m0s\u001b[0m 5ms/step - loss: 3607.6768 - mae: 47.1156 - val_loss: 2810.7349 - val_mae: 42.0078\n",
      "Epoch 46/50\n",
      "\u001b[1m82/82\u001b[0m \u001b[32m━━━━━━━━━━━━━━━━━━━━\u001b[0m\u001b[37m\u001b[0m \u001b[1m0s\u001b[0m 4ms/step - loss: 3444.7295 - mae: 45.4492 - val_loss: 2800.9089 - val_mae: 41.9358\n",
      "Epoch 47/50\n",
      "\u001b[1m82/82\u001b[0m \u001b[32m━━━━━━━━━━━━━━━━━━━━\u001b[0m\u001b[37m\u001b[0m \u001b[1m0s\u001b[0m 5ms/step - loss: 3887.9136 - mae: 48.4627 - val_loss: 2801.8186 - val_mae: 41.8311\n",
      "Epoch 48/50\n",
      "\u001b[1m82/82\u001b[0m \u001b[32m━━━━━━━━━━━━━━━━━━━━\u001b[0m\u001b[37m\u001b[0m \u001b[1m0s\u001b[0m 4ms/step - loss: 3758.2324 - mae: 47.9171 - val_loss: 2841.2153 - val_mae: 41.9775\n",
      "Epoch 49/50\n",
      "\u001b[1m82/82\u001b[0m \u001b[32m━━━━━━━━━━━━━━━━━━━━\u001b[0m\u001b[37m\u001b[0m \u001b[1m0s\u001b[0m 5ms/step - loss: 3461.8315 - mae: 45.6511 - val_loss: 2850.5107 - val_mae: 42.0604\n",
      "Epoch 50/50\n",
      "\u001b[1m82/82\u001b[0m \u001b[32m━━━━━━━━━━━━━━━━━━━━\u001b[0m\u001b[37m\u001b[0m \u001b[1m0s\u001b[0m 5ms/step - loss: 3325.0449 - mae: 45.1442 - val_loss: 2819.5908 - val_mae: 41.7267\n",
      "Validation Loss: 2819.5908203125, Validation MAE: 41.72671890258789\n"
     ]
    }
   ],
   "source": [
    "from tensorflow.keras.callbacks import EarlyStopping\n",
    "\n",
    "# Définir le callback pour arrêter tôt si la validation ne s'améliore plus\n",
    "#early_stopping = EarlyStopping(monitor='val_loss', patience=10, restore_best_weights=True)\n",
    "\n",
    "# Entraîner le modèle\n",
    "history = model.fit(\n",
    "    X_train_split, y_train_split,\n",
    "    validation_data=(X_val, y_val),\n",
    "    epochs=50,\n",
    "    batch_size=32\n",
    ")\n",
    "\n",
    "# Évaluer les performances finales sur l'ensemble de validation\n",
    "loss, mae = model.evaluate(X_val, y_val, verbose=0)\n",
    "print(f\"Validation Loss: {loss}, Validation MAE: {mae}\")\n"
   ]
  },
  {
   "cell_type": "code",
   "execution_count": 10,
   "metadata": {
    "id": "0A9FxWkA8vb9"
   },
   "outputs": [
    {
     "data": {
      "text/plain": [
       "<matplotlib.legend.Legend at 0x7f0a07503650>"
      ]
     },
     "execution_count": 10,
     "metadata": {},
     "output_type": "execute_result"
    },
    {
     "data": {
      "image/png": "[encoded data removed]",
      "text/plain": [
       "<Figure size 640x480 with 1 Axes>"
      ]
     },
     "metadata": {},
     "output_type": "display_data"
    }
   ],
   "source": [
    "# Plot Loss\n",
    "import matplotlib.pyplot as plt\n",
    "plt.plot(history.history['loss'], label='Training Loss')\n",
    "plt.plot(history.history['val_loss'], label='Validation Loss')\n",
    "plt.title('Training and Validation Loss')\n",
    "plt.xlabel('Epoch')\n",
    "plt.ylabel('Loss')\n",
    "plt.legend()"
   ]
  },
  {
   "cell_type": "code",
   "execution_count": 11,
   "metadata": {
    "colab": {
     "base_uri": "https://localhost:8080/"
    },
    "id": "DssxeECn8QK9",
    "outputId": "b0b5d18f-50ca-477f-8dd1-7480f4fb291c"
   },
   "outputs": [
    {
     "name": "stdout",
     "output_type": "stream",
     "text": [
      "Fichier 'submission.csv' généré avec succès.\n"
     ]
    }
   ],
   "source": [
    "import pandas as pd\n",
    "import numpy as np\n",
    "\n",
    "# Charger les fichiers nécessaires\n",
    "submission_format = pd.read_csv(\"submission_format.csv\")\n",
    "test_features = pd.read_csv(\"test_features.csv\")\n",
    "\n",
    "# Assurez-vous que les types de colonnes 'uid' soient compatibles\n",
    "submission_format[\"uid\"] = submission_format[\"uid\"].astype(str)\n",
    "test_features[\"uid\"] = test_features[\"uid\"].astype(str)\n",
    "\n",
    "# Supposons que 'y_pred' est le tableau des prédictions généré par votre modèle\n",
    "# Exemple fictif : générer des prédictions aléatoires (à remplacer par votre vrai `model.predict`)\n",
    "y_pred = np.random.rand(len(test_features)) * 300  # Ajustez ce facteur si nécessaire\n",
    "\n",
    "# Créer un DataFrame pour les prédictions\n",
    "predictions_df = pd.DataFrame({\n",
    "    \"uid\": test_features[\"uid\"],\n",
    "    \"composite_score\": y_pred\n",
    "})\n",
    "\n",
    "# Fusionner les prédictions avec le fichier submission_format\n",
    "submission = submission_format.merge(predictions_df, on=\"uid\", how=\"left\")\n",
    "\n",
    "# Résoudre le problème des colonnes multiples\n",
    "if \"composite_score_x\" in submission.columns and \"composite_score_y\" in submission.columns:\n",
    "    submission[\"composite_score\"] = submission[\"composite_score_y\"]\n",
    "    submission = submission.drop(columns=[\"composite_score_x\", \"composite_score_y\"])\n",
    "elif \"composite_score_y\" in submission.columns:\n",
    "    submission[\"composite_score\"] = submission[\"composite_score_y\"]\n",
    "    submission = submission.drop(columns=[\"composite_score_y\"])\n",
    "elif \"composite_score_x\" in submission.columns:\n",
    "    submission[\"composite_score\"] = submission[\"composite_score_x\"]\n",
    "    submission = submission.drop(columns=[\"composite_score_x\"])\n",
    "else:\n",
    "    print(\"Erreur : La colonne 'composite_score' est absente après la fusion.\")\n",
    "    print(\"Colonnes actuelles :\", submission.columns)\n",
    "    exit()\n",
    "\n",
    "# Réorganiser les colonnes pour correspondre au format attendu\n",
    "submission = submission[[\"uid\", \"year\", \"composite_score\"]]\n",
    "\n",
    "# Sauvegarder le fichier final\n",
    "submission.to_csv(\"submission.csv\", index=False)\n",
    "\n",
    "print(\"Fichier 'submission.csv' généré avec succès.\")\n"
   ]
  },
  {
   "cell_type": "code",
   "execution_count": null,
   "metadata": {},
   "outputs": [],
   "source": []
  }
 ],
 "metadata": {
  "colab": {
   "provenance": []
  },
  "kernelspec": {
   "display_name": "Python 3 (ipykernel)",
   "language": "python",
   "name": "python3"
  },
  "language_info": {
   "codemirror_mode": {
    "name": "ipython",
    "version": 3
   },
   "file_extension": ".py",
   "mimetype": "text/x-python",
   "name": "python",
   "nbconvert_exporter": "python",
   "pygments_lexer": "ipython3",
   "version": "3.13.1"
  }
 },
 "nbformat": 4,
 "nbformat_minor": 4
}
